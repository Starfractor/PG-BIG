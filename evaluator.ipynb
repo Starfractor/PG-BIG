{
 "cells": [
  {
   "cell_type": "code",
   "execution_count": 1,
   "id": "92e58261",
   "metadata": {},
   "outputs": [],
   "source": [
    "import glob\n",
    "import os\n",
    "import numpy as np\n",
    "import nimblephysics as nimble\n",
    "from scipy.stats import entropy\n",
    "\n",
    "def load_joint_positions(b3d_path):\n",
    "    subject = nimble.biomechanics.SubjectOnDisk(b3d_path)\n",
    "    num_trials = subject.getNumTrials()\n",
    "    if num_trials == 0:\n",
    "        raise ValueError(f\"No trials found in {b3d_path}\")\n",
    "    all_trials = []\n",
    "    for trial_idx in range(num_trials):\n",
    "        trial_length = subject.getTrialLength(trial_idx)\n",
    "        frames = subject.readFrames(\n",
    "            trial=trial_idx,\n",
    "            startFrame=0,\n",
    "            numFramesToRead=trial_length,\n",
    "            includeSensorData=False,\n",
    "            includeProcessingPasses=True\n",
    "        )\n",
    "        skeleton = subject.readSkel(processingPass=0, ignoreGeometry=True)\n",
    "        if skeleton is None:\n",
    "            print(f\"Warning: No skeleton found for trial {trial_idx} in {b3d_path}, skipping.\")\n",
    "            continue\n",
    "        joint_positions = []\n",
    "        for frame in frames:\n",
    "            dofs = frame.processingPasses[0].pos  # shape: (num_dofs,)\n",
    "            skeleton.setPositions(dofs)\n",
    "            positions = np.array([skeleton.getBodyNode(i).getWorldTransform().translation()\n",
    "                                  for i in range(skeleton.getNumBodyNodes())])\n",
    "            joint_positions.append(positions)\n",
    "        if joint_positions:\n",
    "            all_trials.append(np.stack(joint_positions))  # (frames, joints, 3)\n",
    "    return all_trials\n",
    "\n",
    "def compute_penetration(joint_positions):\n",
    "    # joint_positions: (frames, joints, 3)\n",
    "    ymin = np.min(joint_positions[..., 1], axis=1)  # y-coord of lowest joint per frame\n",
    "    ground = np.median(ymin)\n",
    "    penetration = np.mean(np.maximum(0, -(ymin - ground)))\n",
    "    return penetration\n",
    "\n",
    "def compute_floating(joint_positions):\n",
    "    ymin = np.min(joint_positions[..., 1], axis=1)\n",
    "    ground = np.median(ymin)\n",
    "    floating = np.mean(np.maximum(0, ymin - ground))\n",
    "    return floating\n",
    "\n",
    "def compute_sliding(joint_positions):\n",
    "    # Find lowest joint per frame\n",
    "    lowest_idx = np.argmin(joint_positions[..., 1], axis=1)\n",
    "    plow = np.array([joint_positions[t, idx] for t, idx in enumerate(lowest_idx)])\n",
    "    sliding = np.mean(np.linalg.norm(plow[1:] - plow[:-1], axis=1))\n",
    "    return sliding\n",
    "\n",
    "def compute_entropy(joint_positions):\n",
    "    # Flatten all joint positions and compute entropy on y-coords as a simple example\n",
    "    y_coords = joint_positions[..., 1].flatten()\n",
    "    hist, _ = np.histogram(y_coords, bins=50, density=True)\n",
    "    return entropy(hist + 1e-8)  # add epsilon to avoid log(0)\n",
    "\n",
    "def compute_fid(features_gen, features_real):\n",
    "    mu_gen = np.mean(features_gen, axis=0)\n",
    "    mu_real = np.mean(features_real, axis=0)\n",
    "    std_gen = np.std(features_gen, axis=0)\n",
    "    std_real = np.std(features_real, axis=0)\n",
    "    w2 = (mu_real - mu_gen) ** 2 + (std_real - std_gen) ** 2\n",
    "    return np.mean(w2)\n",
    "\n",
    "def compute_r_precision(features_gen, features_text):\n",
    "    # Placeholder: You need a retrieval setup and text features\n",
    "    # Return dummy value for now\n",
    "    return 0.0\n",
    "\n",
    "def compute_metrics(b3d_dir, reference_path, match_mode=\"looped\", group_size=3):\n",
    "    b3d_files = glob.glob(os.path.join(b3d_dir, \"**\", \"*.b3d\"), recursive=True)\n",
    "    penetrations, floatings, slidings, entropies, fidelities = [], [], [], [], []\n",
    "\n",
    "    # Load all reference trials\n",
    "    reference_trials = load_joint_positions(reference_path)  # List of arrays, length N\n",
    "\n",
    "    for b3d_path in b3d_files:\n",
    "        try:\n",
    "            all_trials = load_joint_positions(b3d_path)\n",
    "        except Exception as e:\n",
    "            print(f\"Skipping {b3d_path}: {e}\")\n",
    "            continue\n",
    "        for trial_idx, joint_positions in enumerate(all_trials):\n",
    "            if joint_positions.ndim != 3 or joint_positions.shape[0] == 0:\n",
    "                print(f\"Skipping {b3d_path} trial {trial_idx}: invalid joint_positions shape {joint_positions.shape}\")\n",
    "                continue\n",
    "\n",
    "            if match_mode == \"looped\":\n",
    "                ref_idx = trial_idx % len(reference_trials)\n",
    "            elif match_mode == \"grouped\":\n",
    "                ref_idx = trial_idx // group_size\n",
    "                if ref_idx >= len(reference_trials):\n",
    "                    print(f\"Skipping trial {trial_idx}: ref_idx {ref_idx} out of bounds\")\n",
    "                    continue\n",
    "            else:\n",
    "                raise ValueError(f\"Unknown match_mode: {match_mode}\")\n",
    "\n",
    "            reference_positions = reference_trials[ref_idx]\n",
    "            reference_features = reference_positions.reshape(reference_positions.shape[0], -1)\n",
    "\n",
    "            penetrations.append(compute_penetration(joint_positions))\n",
    "            floatings.append(compute_floating(joint_positions))\n",
    "            slidings.append(compute_sliding(joint_positions))\n",
    "            entropies.append(compute_entropy(joint_positions))\n",
    "            features_gen = joint_positions.reshape(joint_positions.shape[0], -1)\n",
    "            fidelities.append(compute_fid(features_gen, reference_features))\n",
    "\n",
    "    return {\n",
    "        \"penetrations\": penetrations,\n",
    "        \"floatings\": floatings,\n",
    "        \"slidings\": slidings,\n",
    "        \"entropies\": entropies,\n",
    "        \"fidelities\": fidelities\n",
    "    }"
   ]
  },
  {
   "cell_type": "code",
   "execution_count": 2,
   "id": "ad734c36",
   "metadata": {},
   "outputs": [],
   "source": [
    "# Reference subject\n",
    "reference_dir = \"/home/mnt/datasets/183_retargeted/38.b3d\""
   ]
  },
  {
   "cell_type": "code",
   "execution_count": 3,
   "id": "9c3fc88f",
   "metadata": {},
   "outputs": [
    {
     "name": "stdout",
     "output_type": "stream",
     "text": [
      "BIGE Penetration: nan ± nan\n",
      "BIGE Floating: nan ± nan\n",
      "BIGE Sliding: nan ± nan\n",
      "BIGE Entropy: nan ± nan\n",
      "BIGE Fidelity: nan ± nan\n"
     ]
    },
    {
     "name": "stderr",
     "output_type": "stream",
     "text": [
      "/opt/conda/envs/BIGE/lib/python3.8/site-packages/numpy/core/fromnumeric.py:3432: RuntimeWarning: Mean of empty slice.\n",
      "  return _methods._mean(a, axis=axis, dtype=dtype,\n",
      "/opt/conda/envs/BIGE/lib/python3.8/site-packages/numpy/core/_methods.py:190: RuntimeWarning: invalid value encountered in double_scalars\n",
      "  ret = ret.dtype.type(ret / rcount)\n",
      "/opt/conda/envs/BIGE/lib/python3.8/site-packages/numpy/core/_methods.py:265: RuntimeWarning: Degrees of freedom <= 0 for slice\n",
      "  ret = _var(a, axis=axis, dtype=dtype, out=out, ddof=ddof,\n",
      "/opt/conda/envs/BIGE/lib/python3.8/site-packages/numpy/core/_methods.py:223: RuntimeWarning: invalid value encountered in divide\n",
      "  arrmean = um.true_divide(arrmean, div, out=arrmean, casting='unsafe',\n",
      "/opt/conda/envs/BIGE/lib/python3.8/site-packages/numpy/core/_methods.py:257: RuntimeWarning: invalid value encountered in double_scalars\n",
      "  ret = ret.dtype.type(ret / rcount)\n"
     ]
    }
   ],
   "source": [
    "# BIGE Metrics\n",
    "bige_dir = \"/home/mnt/generations/retargeted/BIGE\"\n",
    "bige_metrics = compute_metrics(bige_dir, reference_dir)\n",
    "\n",
    "print(f\"BIGE Penetration: {np.mean(bige_metrics['penetrations']):.4f} ± {np.std(bige_metrics['penetrations']):.4f}\")\n",
    "print(f\"BIGE Floating: {np.mean(bige_metrics['floatings']):.4f} ± {np.std(bige_metrics['floatings']):.4f}\")\n",
    "print(f\"BIGE Sliding: {np.mean(bige_metrics['slidings']):.4f} ± {np.std(bige_metrics['slidings']):.4f}\")\n",
    "print(f\"BIGE Entropy: {np.mean(bige_metrics['entropies']):.4f} ± {np.std(bige_metrics['entropies']):.4f}\")\n",
    "print(f\"BIGE Fidelity: {np.mean(bige_metrics['fidelities']):.4f} ± {np.std(bige_metrics['fidelities']):.4f}\")"
   ]
  },
  {
   "cell_type": "code",
   "execution_count": 5,
   "id": "e6842ed1",
   "metadata": {},
   "outputs": [
    {
     "name": "stdout",
     "output_type": "stream",
     "text": [
      "MDM Penetration: 0.0146 ± 0.0130\n",
      "MDM Floating: 0.0184 ± 0.0264\n",
      "MDM Sliding: 0.0320 ± 0.0207\n",
      "MDM Entropy: 3.3385 ± 0.2133\n",
      "MDM Fidelity: 0.4476 ± 0.4568\n"
     ]
    }
   ],
   "source": [
    "# MDM Metrics\n",
    "mdm_dir = \"/home/mnt/generations/retargeted/MDM\"\n",
    "mdm_metrics = compute_metrics(mdm_dir, reference_dir, match_mode=\"looped\")\n",
    "\n",
    "print(f\"MDM Penetration: {np.mean(mdm_metrics['penetrations']):.4f} ± {np.std(mdm_metrics['penetrations']):.4f}\")\n",
    "print(f\"MDM Floating: {np.mean(mdm_metrics['floatings']):.4f} ± {np.std(mdm_metrics['floatings']):.4f}\")\n",
    "print(f\"MDM Sliding: {np.mean(mdm_metrics['slidings']):.4f} ± {np.std(mdm_metrics['slidings']):.4f}\")\n",
    "print(f\"MDM Entropy: {np.mean(mdm_metrics['entropies']):.4f} ± {np.std(mdm_metrics['entropies']):.4f}\")\n",
    "print(f\"MDM Fidelity: {np.mean(mdm_metrics['fidelities']):.4f} ± {np.std(mdm_metrics['fidelities']):.4f}\")"
   ]
  },
  {
   "cell_type": "code",
   "execution_count": 6,
   "id": "53f9edf4",
   "metadata": {},
   "outputs": [
    {
     "name": "stdout",
     "output_type": "stream",
     "text": [
      "PersonaBooth Penetration: 0.0139 ± 0.0088\n",
      "PersonaBooth Floating: 0.0214 ± 0.0182\n",
      "PersonaBooth Sliding: 0.0312 ± 0.0176\n",
      "PersonaBooth Entropy: 3.4066 ± 0.1508\n",
      "PersonaBooth Fidelity: 0.6916 ± 0.6820\n"
     ]
    }
   ],
   "source": [
    "# PersonaBooth Metrics\n",
    "persona_dir = \"/home/mnt/generations/retargeted/PersonaBooth\"\n",
    "persona_metrics = compute_metrics(persona_dir, reference_dir, match_mode=\"grouped\", group_size=3)\n",
    "\n",
    "print(f\"PersonaBooth Penetration: {np.mean(persona_metrics['penetrations']):.4f} ± {np.std(persona_metrics['penetrations']):.4f}\")\n",
    "print(f\"PersonaBooth Floating: {np.mean(persona_metrics['floatings']):.4f} ± {np.std(persona_metrics['floatings']):.4f}\")\n",
    "print(f\"PersonaBooth Sliding: {np.mean(persona_metrics['slidings']):.4f} ± {np.std(persona_metrics['slidings']):.4f}\")\n",
    "print(f\"PersonaBooth Entropy: {np.mean(persona_metrics['entropies']):.4f} ± {np.std(persona_metrics['entropies']):.4f}\")\n",
    "print(f\"PersonaBooth Fidelity: {np.mean(persona_metrics['fidelities']):.4f} ± {np.std(persona_metrics['fidelities']):.4f}\")"
   ]
  },
  {
   "cell_type": "code",
   "execution_count": 6,
   "id": "f748c857",
   "metadata": {},
   "outputs": [
    {
     "name": "stdout",
     "output_type": "stream",
     "text": [
      "Skipping trial 90: ref_idx 30 out of bounds\n",
      "Skipping trial 91: ref_idx 30 out of bounds\n",
      "Skipping trial 92: ref_idx 30 out of bounds\n",
      "T2M-GPT Penetration: 0.0168 ± 0.0109\n",
      "T2M-GPT Floating: 0.0213 ± 0.0175\n",
      "T2M-GPT Sliding: 0.0511 ± 0.0309\n",
      "T2M-GPT Entropy: 3.4736 ± 0.2182\n",
      "T2M-GPT Fidelity: 0.5444 ± 0.5267\n"
     ]
    }
   ],
   "source": [
    "# T2M-GPT Metrics\n",
    "t2m_dir = \"/home/mnt/generations/retargeted/T2M-GPT\"\n",
    "t2m_metrics = compute_metrics(t2m_dir, reference_dir, match_mode=\"grouped\", group_size=3)\n",
    "\n",
    "print(f\"T2M-GPT Penetration: {np.mean(t2m_metrics['penetrations']):.4f} ± {np.std(t2m_metrics['penetrations']):.4f}\")\n",
    "print(f\"T2M-GPT Floating: {np.mean(t2m_metrics['floatings']):.4f} ± {np.std(t2m_metrics['floatings']):.4f}\")\n",
    "print(f\"T2M-GPT Sliding: {np.mean(t2m_metrics['slidings']):.4f} ± {np.std(t2m_metrics['slidings']):.4f}\")\n",
    "print(f\"T2M-GPT Entropy: {np.mean(t2m_metrics['entropies']):.4f} ± {np.std(t2m_metrics['entropies']):.4f}\")\n",
    "print(f\"T2M-GPT Fidelity: {np.mean(t2m_metrics['fidelities']):.4f} ± {np.std(t2m_metrics['fidelities']):.4f}\")"
   ]
  },
  {
   "cell_type": "code",
   "execution_count": 7,
   "id": "10431467",
   "metadata": {},
   "outputs": [
    {
     "name": "stdout",
     "output_type": "stream",
     "text": [
      "Results Penetration: 0.0697 ± 0.0346\n",
      "Results Floating: 0.0670 ± 0.0324\n",
      "Results Sliding: 0.0554 ± 0.0209\n",
      "Results Entropy: 3.4448 ± 0.1023\n",
      "Results Fidelity: 0.5809 ± 0.3593\n"
     ]
    }
   ],
   "source": [
    "# Our metrics\n",
    "results_dir = \"/home/mnt/generations/results\"\n",
    "results_metrics = compute_metrics(results_dir, reference_dir, match_mode=\"grouped\", group_size=3)\n",
    "print(f\"Results Penetration: {np.mean(results_metrics['penetrations']):.4f} ± {np.std(results_metrics['penetrations']):.4f}\")\n",
    "print(f\"Results Floating: {np.mean(results_metrics['floatings']):.4f} ± {np.std(results_metrics['floatings']):.4f}\")\n",
    "print(f\"Results Sliding: {np.mean(results_metrics['slidings']):.4f} ± {np.std(results_metrics['slidings']):.4f}\")\n",
    "print(f\"Results Entropy: {np.mean(results_metrics['entropies']):.4f} ± {np.std(results_metrics['entropies']):.4f}\")\n",
    "print(f\"Results Fidelity: {np.mean(results_metrics['fidelities']):.4f} ± {np.std(results_metrics['fidelities']):.4f}\")"
   ]
  },
  {
   "cell_type": "code",
   "execution_count": null,
   "id": "646429e3",
   "metadata": {},
   "outputs": [
    {
     "name": "stdout",
     "output_type": "stream",
     "text": [
      "GUIWebsocketServer will start serving a WebSocket server on ws://localhost:8070\n",
      "Web GUI serving on http://localhost:9000\n"
     ]
    },
    {
     "name": "stderr",
     "output_type": "stream",
     "text": [
      "127.0.0.1 - - [31/Jul/2025 14:16:13] \"GET / HTTP/1.1\" 200 -\n",
      "127.0.0.1 - - [31/Jul/2025 14:16:14] \"GET /bundle.js HTTP/1.1\" 200 -\n",
      "127.0.0.1 - - [31/Jul/2025 14:16:15] \"GET /favicon.ico HTTP/1.1\" 200 -\n",
      "[2025-07-31 14:16:37] [error] Handshake ended with HTTP error: 426\n",
      "127.0.0.1 - - [31/Jul/2025 14:17:32] \"GET / HTTP/1.1\" 200 -\n",
      "127.0.0.1 - - [31/Jul/2025 14:17:33] \"GET /favicon.ico HTTP/1.1\" 200 -\n"
     ]
    },
    {
     "name": "stdout",
     "output_type": "stream",
     "text": [
      "Keyboard interrupt received. Shutting down GUI session.\n"
     ]
    },
    {
     "ename": "AttributeError",
     "evalue": "'NimbleGUI' object has no attribute 'shutdown'",
     "output_type": "error",
     "traceback": [
      "\u001b[0;31m---------------------------------------------------------------------------\u001b[0m",
      "\u001b[0;31mKeyboardInterrupt\u001b[0m                         Traceback (most recent call last)",
      "Cell \u001b[0;32mIn[1], line 42\u001b[0m\n\u001b[1;32m     41\u001b[0m             gui\u001b[38;5;241m.\u001b[39mnativeAPI()\u001b[38;5;241m.\u001b[39mrenderSkeleton(skeleton)\n\u001b[0;32m---> 42\u001b[0m             \u001b[43mtime\u001b[49m\u001b[38;5;241;43m.\u001b[39;49m\u001b[43msleep\u001b[49m\u001b[43m(\u001b[49m\u001b[43mtimestep\u001b[49m\u001b[43m)\u001b[49m\n\u001b[1;32m     43\u001b[0m \u001b[38;5;28;01mexcept\u001b[39;00m \u001b[38;5;167;01mKeyboardInterrupt\u001b[39;00m:\n",
      "\u001b[0;31mKeyboardInterrupt\u001b[0m: ",
      "\nDuring handling of the above exception, another exception occurred:\n",
      "\u001b[0;31mAttributeError\u001b[0m                            Traceback (most recent call last)",
      "Cell \u001b[0;32mIn[1], line 45\u001b[0m\n\u001b[1;32m     43\u001b[0m \u001b[38;5;28;01mexcept\u001b[39;00m \u001b[38;5;167;01mKeyboardInterrupt\u001b[39;00m:\n\u001b[1;32m     44\u001b[0m     \u001b[38;5;28mprint\u001b[39m(\u001b[38;5;124m\"\u001b[39m\u001b[38;5;124mKeyboard interrupt received. Shutting down GUI session.\u001b[39m\u001b[38;5;124m\"\u001b[39m)\n\u001b[0;32m---> 45\u001b[0m     \u001b[43mgui\u001b[49m\u001b[38;5;241;43m.\u001b[39;49m\u001b[43mshutdown\u001b[49m()\n",
      "\u001b[0;31mAttributeError\u001b[0m: 'NimbleGUI' object has no attribute 'shutdown'"
     ]
    }
   ],
   "source": [
    "import nimblephysics as nimble\n",
    "import numpy as np\n",
    "import time\n",
    "\n",
    "# Path to your generated B3D file\n",
    "b3d_path = f\"/home/mnt/generations/retargeted/MDM/mdm_motions.b3d\"\n",
    "\n",
    "# Load the B3D file\n",
    "subject_on_disk = nimble.biomechanics.SubjectOnDisk(b3d_path)\n",
    "\n",
    "# Load the Rajagopal skeleton\n",
    "rajagopal_opensim = nimble.RajagopalHumanBodyModel()\n",
    "skeleton = rajagopal_opensim.skeleton\n",
    "\n",
    "# Visualize the first trial's motion\n",
    "trial_idx = 0\n",
    "num_frames = subject_on_disk.getTrialLength(trial_idx)\n",
    "timestep = subject_on_disk.getTrialTimestep(trial_idx)\n",
    "\n",
    "# Read all frames for the trial\n",
    "frames = subject_on_disk.readFrames(trial=trial_idx, startFrame=0, numFramesToRead=num_frames)\n",
    "poses = []\n",
    "for frame in frames:\n",
    "    # Use the first processing pass (kinematics)\n",
    "    if len(frame.processingPasses) > 0:\n",
    "        kinematics_pass = frame.processingPasses[0]\n",
    "        if hasattr(kinematics_pass, \"pos\"):\n",
    "            poses.append(np.array(kinematics_pass.pos))\n",
    "poses = np.array(poses)  # shape: (num_frames, num_dofs)\n",
    "\n",
    "# Create the GUI\n",
    "gui = nimble.NimbleGUI()\n",
    "gui.serve(8050)\n",
    "gui.nativeAPI().renderSkeleton(skeleton)\n",
    "\n",
    "# Animate the motion in a loop forever\n",
    "try:\n",
    "    while True:\n",
    "        for t in range(len(poses)):\n",
    "            skeleton.setPositions(poses[t])\n",
    "            gui.nativeAPI().renderSkeleton(skeleton)\n",
    "            time.sleep(timestep)\n",
    "except KeyboardInterrupt:\n",
    "    print(\"Keyboard interrupt received. Shutting down GUI session.\")\n",
    "    gui.shutdown()"
   ]
  }
 ],
 "metadata": {
  "kernelspec": {
   "display_name": "BIGE",
   "language": "python",
   "name": "python3"
  },
  "language_info": {
   "codemirror_mode": {
    "name": "ipython",
    "version": 3
   },
   "file_extension": ".py",
   "mimetype": "text/x-python",
   "name": "python",
   "nbconvert_exporter": "python",
   "pygments_lexer": "ipython3",
   "version": "3.8.20"
  }
 },
 "nbformat": 4,
 "nbformat_minor": 5
}
